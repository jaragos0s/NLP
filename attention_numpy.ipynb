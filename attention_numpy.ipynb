{
 "cells": [
  {
   "cell_type": "code",
   "execution_count": 38,
   "id": "36fe4df1",
   "metadata": {},
   "outputs": [
    {
     "data": {
      "text/plain": [
       "<torch._C.Generator at 0x1afa41ad390>"
      ]
     },
     "execution_count": 38,
     "metadata": {},
     "output_type": "execute_result"
    }
   ],
   "source": [
    "import numpy as np\n",
    "import torch \n",
    "import torch.nn as nn\n",
    "\n",
    "np.random.seed(777)\n",
    "torch.manual_seed(777)"
   ]
  },
  {
   "cell_type": "code",
   "execution_count": 39,
   "id": "e8d003bf",
   "metadata": {},
   "outputs": [],
   "source": [
    "def softmax(input, i):\n",
    "    return np.exp(input[i]) / (np.sum(np.exp(input)) + 1e-6)"
   ]
  },
  {
   "cell_type": "code",
   "execution_count": 46,
   "id": "2ca82a83",
   "metadata": {},
   "outputs": [],
   "source": [
    "def attention(input):\n",
    "    n = input.shape[0]\n",
    "    d = input.shape[1]\n",
    "\n",
    "    W_k = np.random.rand(d, d)\n",
    "    W_q = np.random.rand(d, d)\n",
    "    W_v = np.random.rand(d, d)\n",
    "    #print(input, n, d)\n",
    "    #print(input.shape, W_k.shape)\n",
    "    k = np.matmul(input, W_k)\n",
    "    #print(k)\n",
    "    q = np.matmul(input, W_q)\n",
    "    v = np.matmul(input, W_v)\n",
    "    \n",
    "    A = np.zeros((n, n))\n",
    "    trans = np.matmul(q, k.T)\n",
    "    root_d = np.sqrt(d)\n",
    "    for i in range(n):\n",
    "        A[i] = [softmax(trans[i] / root_d, j) for j in range(n)]\n",
    "    # print(A)\n",
    "    res = np.matmul(A, v)\n",
    "    return res\n",
    "    "
   ]
  },
  {
   "cell_type": "code",
   "execution_count": 49,
   "id": "d3e8e3f3",
   "metadata": {
    "scrolled": true
   },
   "outputs": [
    {
     "data": {
      "text/plain": [
       "array([[11.3205707 , 11.28590956],\n",
       "       [11.32057071, 11.28590957]])"
      ]
     },
     "execution_count": 49,
     "metadata": {},
     "output_type": "execute_result"
    }
   ],
   "source": [
    "n = np.array([[3, 4], [10, 8]]).astype(np.float64)\n",
    "attention(n)"
   ]
  },
  {
   "cell_type": "code",
   "execution_count": null,
   "id": "e5609da1",
   "metadata": {},
   "outputs": [],
   "source": [
    "k= np.array([[2, 3, 5], [7, 8, 9]])\n",
    "k = k.T\n",
    "k"
   ]
  },
  {
   "cell_type": "code",
   "execution_count": null,
   "id": "fcd3eeb2",
   "metadata": {},
   "outputs": [],
   "source": [
    "n = np.array([[3, 4], [7, 8]])\n",
    "a = np.ra\n",
    "np.dot(n, a)"
   ]
  },
  {
   "cell_type": "code",
   "execution_count": 1,
   "id": "7c737306",
   "metadata": {},
   "outputs": [],
   "source": [
    "import numpy as np"
   ]
  },
  {
   "cell_type": "code",
   "execution_count": 6,
   "id": "d23d681f",
   "metadata": {},
   "outputs": [
    {
     "data": {
      "text/plain": [
       "array([[2.91543123, 2.66336308],\n",
       "       [5.85400708, 5.33958981]])"
      ]
     },
     "execution_count": 6,
     "metadata": {},
     "output_type": "execute_result"
    }
   ],
   "source": [
    "n = np.array([[3, 4], [7, 8]]).astype(np.float64)\n",
    "a = np.random.rand(2, 2)\n",
    "np.dot(n, a)"
   ]
  },
  {
   "cell_type": "code",
   "execution_count": 2,
   "id": "b079294a",
   "metadata": {},
   "outputs": [
    {
     "data": {
      "text/plain": [
       "array([[0.2975064 , 0.73061944],\n",
       "       [0.83582873, 0.8410795 ]])"
      ]
     },
     "execution_count": 2,
     "metadata": {},
     "output_type": "execute_result"
    }
   ],
   "source": [
    "a = np.random.rand(2, 2)\n",
    "a"
   ]
  },
  {
   "cell_type": "code",
   "execution_count": 4,
   "id": "ff794d82",
   "metadata": {},
   "outputs": [
    {
     "data": {
      "text/plain": [
       "dtype('float64')"
      ]
     },
     "execution_count": 4,
     "metadata": {},
     "output_type": "execute_result"
    }
   ],
   "source": [
    "a.dtype"
   ]
  },
  {
   "cell_type": "code",
   "execution_count": null,
   "id": "c4970ad8",
   "metadata": {},
   "outputs": [],
   "source": []
  }
 ],
 "metadata": {
  "kernelspec": {
   "display_name": "Python 3",
   "language": "python",
   "name": "python3"
  },
  "language_info": {
   "codemirror_mode": {
    "name": "ipython",
    "version": 3
   },
   "file_extension": ".py",
   "mimetype": "text/x-python",
   "name": "python",
   "nbconvert_exporter": "python",
   "pygments_lexer": "ipython3",
   "version": "3.8.8"
  }
 },
 "nbformat": 4,
 "nbformat_minor": 5
}
