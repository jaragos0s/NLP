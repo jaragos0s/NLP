{
 "cells": [
  {
   "cell_type": "code",
   "execution_count": 82,
   "id": "2bb9e014",
   "metadata": {},
   "outputs": [
    {
     "data": {
      "text/plain": [
       "<torch._C.Generator at 0x2b3287f55f0>"
      ]
     },
     "execution_count": 82,
     "metadata": {},
     "output_type": "execute_result"
    }
   ],
   "source": [
    "import torch \n",
    "import torch.nn as nn\n",
    "import torch.nn.functional as F\n",
    "import math\n",
    "\n",
    "torch.manual_seed(777)"
   ]
  },
  {
   "cell_type": "markdown",
   "id": "25c59b22",
   "metadata": {},
   "source": [
    "basic attention structure "
   ]
  },
  {
   "cell_type": "code",
   "execution_count": 83,
   "id": "e7057197",
   "metadata": {},
   "outputs": [],
   "source": [
    "def Attention(input):\n",
    "    n = input.shape[0]\n",
    "    d = input.shape[1]\n",
    "    \n",
    "    W_k = torch.randn(d, d)\n",
    "    W_q = torch.randn(d, d)\n",
    "    W_v = torch.randn(d, d)\n",
    "    \n",
    "    k = torch.matmul(input, W_k)\n",
    "    q = torch.matmul(input, W_q)\n",
    "    v = torch.matmul(input, W_v)\n",
    "    # 여기까지 input으로 K, Q, V 만드는 과정 (embedding)\n",
    "    \n",
    "    # Attention\n",
    "    \n",
    "    #print(k, q, v)\n",
    "    A = torch.zeros(n, n)\n",
    "    root_d = math.sqrt(d)\n",
    "    product = torch.matmul(q, k.transpose(0, 1))\n",
    "    A = nn.functional.softmax(product / root_d, dim = 1)\n",
    "    print(v, '\\n', A)\n",
    "    res = torch.matmul(A, v)\n",
    "    return res"
   ]
  },
  {
   "cell_type": "code",
   "execution_count": 84,
   "id": "8753a02a",
   "metadata": {},
   "outputs": [
    {
     "name": "stdout",
     "output_type": "stream",
     "text": [
      "tensor([[-0.4015, -0.5934,  1.6885],\n",
      "        [ 0.5554, -0.9433, -0.6758]])\n",
      "tensor([[-2.4831,  0.2334,  1.9331],\n",
      "        [ 2.1000,  4.8312, -1.2138]]) \n",
      " tensor([[0.9842, 0.0158],\n",
      "        [0.4623, 0.5377]])\n"
     ]
    },
    {
     "data": {
      "text/plain": [
       "tensor([[-2.4109,  0.3059,  1.8835],\n",
       "        [-0.0189,  2.7056,  0.2411]])"
      ]
     },
     "execution_count": 84,
     "metadata": {},
     "output_type": "execute_result"
    }
   ],
   "source": [
    "n = torch.randn(2, 3)\n",
    "print(n)\n",
    "Attention(n)"
   ]
  },
  {
   "cell_type": "markdown",
   "id": "b0f41792",
   "metadata": {},
   "source": [
    "## Transformer"
   ]
  },
  {
   "cell_type": "code",
   "execution_count": 85,
   "id": "ac34dc9a",
   "metadata": {},
   "outputs": [],
   "source": [
    "class Attention(nn.Module):\n",
    "    def __init__(self):\n",
    "        super(Attention).__init__()\n",
    "        \n",
    "    def attention(self, q, k, v):\n",
    "#         product = torch.matmul(q, k.transpose(1, 2))  # matmul (B, X, Y)\n",
    "        product = torch.matmul(q, k.T)\n",
    "        root_d = math.sqrt(self.d_k)\n",
    "        A = nn.functional.softmax(product / root_d, dim = 1)\n",
    "        res = torch.matmul(A, v)\n",
    "        \n",
    "        return res"
   ]
  },
  {
   "cell_type": "code",
   "execution_count": 114,
   "id": "7fff949a",
   "metadata": {},
   "outputs": [],
   "source": [
    "class EncoderLayer(Attention):\n",
    "    def __init__(self):\n",
    "        super(EncoderLayer).__init__()\n",
    "        Attention.__init__(self) # 확인하기\n",
    "    \n",
    "    def Multi_Head_Attention(self, K, V, Q):  \n",
    "        res = []\n",
    "        print('K.shape, V.shape, Q.shape: ', K.shape, V.shape, Q.shape)\n",
    "        for i in range(self.num_head):\n",
    "            head = self.attention(K[i], V[i], Q[i])\n",
    "            print('head.shape: ', head.shape)\n",
    "            res.append(head)\n",
    "        res = torch.cat(res, dim = 1)\n",
    "        # print(res.shape, self.W_o.shape)\n",
    "        res = torch.matmul(res, self.W_o)\n",
    "        \n",
    "        return res\n",
    "    \n",
    "    def LayerNorm(self, x, sub_layer):\n",
    "        # print(type(x), type(sub_layer))\n",
    "        a = x + sub_layer\n",
    "        return F.layer_norm(a, a.shape)\n",
    "    \n",
    "    def FFN(self, x):  # Position-wise feed forward network\n",
    "        x = F.linear(x, self.W1, self.b1)\n",
    "        x = F.relu(x)\n",
    "        x = F.linear(x, self.W2, self.b2)\n",
    "        return x\n",
    "        \n",
    "    def KVQ(self, x):\n",
    "        K = torch.zeros( self.num_head, self.input_shape, self.d_k)\n",
    "        V = torch.zeros( self.num_head, self.input_shape, self.d_k)\n",
    "        Q = torch.zeros( self.num_head, self.input_shape, self.d_k)\n",
    "        for i in range(self.num_head):\n",
    "            K[i] = torch.matmul(x, self.W_k[i])\n",
    "            V[i] = torch.matmul(x, self.W_v[i])\n",
    "            Q[i] = torch.matmul(x, self.W_q[i])\n",
    "            \n",
    "        return K, V, Q\n",
    "    \n",
    "    def singleLayer(self, x):\n",
    "        self.K, self.V, self.Q = self.KVQ(x)\n",
    "        print(self.K, self.V, self.Q)\n",
    "        res = torch.Tensor()\n",
    "        res = self.Multi_Head_Attention(self.K, self.V, self.Q)  # Q = [q1, q2, ....] where dim(qi) = (input_shape, d_k)\n",
    "        print(res)\n",
    "        res = self.LayerNorm(x, res)\n",
    "        \n",
    "        # Fully connected feed forward network\n",
    "        print('res.shape: ', res.shape)\n",
    "        fc = self.FFN(res)\n",
    "        \n",
    "        res = self.LayerNorm(res, fc)\n",
    "        \n",
    "        return res\n",
    "        "
   ]
  },
  {
   "cell_type": "code",
   "execution_count": 115,
   "id": "a7d238b9",
   "metadata": {},
   "outputs": [],
   "source": [
    "class Encoder(EncoderLayer):\n",
    "    def __init__(self, N, input_shape, d_k, at_dim, d_ff, d_model, dropout_rate, num_head, W_k, W_q, W_v, W_o, W1, W2, b1, b2):\n",
    "        super(Encoder).__init__()\n",
    "        \n",
    "        EncoderLayer.__init__(self)\n",
    "        # store hyperparameters\n",
    "        self.N = N\n",
    "        self.input_shape = input_shape\n",
    "        self.d_k = d_k\n",
    "        self.at_dim = at_dim\n",
    "        self.d_ff = d_ff\n",
    "        self.d_model = d_model\n",
    "        self.dropout_rate = dropout_rate\n",
    "        self.num_head = num_head\n",
    "        self.W_k = W_k\n",
    "        self.W_q = W_q\n",
    "        self.W_v = W_v\n",
    "        self.W_o = W_o\n",
    "        self.W1 = W1\n",
    "        self.W2 = W2\n",
    "        self.b1 = b1\n",
    "        self.b2 = b2\n",
    "    def forward(self, x):\n",
    "        res = x\n",
    "        # N encoder layers\n",
    "        for i in range(self.N):\n",
    "            res = self.singleLayer(res)\n",
    "        \n",
    "        return res    "
   ]
  },
  {
   "cell_type": "code",
   "execution_count": 116,
   "id": "cc458ec8",
   "metadata": {},
   "outputs": [],
   "source": [
    "inp = torch.randn(1, 2, 2)"
   ]
  },
  {
   "cell_type": "code",
   "execution_count": 117,
   "id": "f436808a",
   "metadata": {},
   "outputs": [
    {
     "name": "stdout",
     "output_type": "stream",
     "text": [
      "tensor([[[ 30.,  50.],\n",
      "         [ 60., 100.]],\n",
      "\n",
      "        [[120.,  80.],\n",
      "         [240., 160.]],\n",
      "\n",
      "        [[110.,  90.],\n",
      "         [220., 180.]]]) tensor([[[ 30.,  50.],\n",
      "         [ 60., 100.]],\n",
      "\n",
      "        [[120.,  80.],\n",
      "         [240., 160.]],\n",
      "\n",
      "        [[110.,  90.],\n",
      "         [220., 180.]]]) tensor([[[ 30.,  50.],\n",
      "         [ 60., 100.]],\n",
      "\n",
      "        [[120.,  80.],\n",
      "         [240., 160.]],\n",
      "\n",
      "        [[110.,  90.],\n",
      "         [220., 180.]]])\n",
      "K.shape, V.shape, Q.shape:  torch.Size([3, 2, 2]) torch.Size([3, 2, 2]) torch.Size([3, 2, 2])\n",
      "head.shape:  torch.Size([2, 2])\n",
      "head.shape:  torch.Size([2, 2])\n",
      "head.shape:  torch.Size([2, 2])\n",
      "tensor([[ 148.3409, -210.9272],\n",
      "        [ 148.3409, -210.9272]])\n",
      "res.shape:  torch.Size([1, 2, 2])\n",
      "tensor([[[-1.0292, -1.0502],\n",
      "         [-0.9706, -0.9497]],\n",
      "\n",
      "        [[-4.1170,  1.9121],\n",
      "         [-3.8826,  2.0877]],\n",
      "\n",
      "        [[-3.1086, -7.0792],\n",
      "         [-2.8910, -6.9200]]]) tensor([[[-1.0292, -1.0502],\n",
      "         [-0.9706, -0.9497]],\n",
      "\n",
      "        [[-4.1170,  1.9121],\n",
      "         [-3.8826,  2.0877]],\n",
      "\n",
      "        [[-3.1086, -7.0792],\n",
      "         [-2.8910, -6.9200]]]) tensor([[[-1.0292, -1.0502],\n",
      "         [-0.9706, -0.9497]],\n",
      "\n",
      "        [[-4.1170,  1.9121],\n",
      "         [-3.8826,  2.0877]],\n",
      "\n",
      "        [[-3.1086, -7.0792],\n",
      "         [-2.8910, -6.9200]]])\n",
      "K.shape, V.shape, Q.shape:  torch.Size([3, 2, 2]) torch.Size([3, 2, 2]) torch.Size([3, 2, 2])\n",
      "head.shape:  torch.Size([2, 2])\n",
      "head.shape:  torch.Size([2, 2])\n",
      "head.shape:  torch.Size([2, 2])\n",
      "tensor([[2.2141, 2.2722],\n",
      "        [2.2167, 2.2713]])\n",
      "res.shape:  torch.Size([1, 2, 2])\n"
     ]
    },
    {
     "data": {
      "text/plain": [
       "tensor([[[ 0.9909, -1.0016],\n",
       "         [ 1.0090, -0.9983]]])"
      ]
     },
     "execution_count": 117,
     "metadata": {},
     "output_type": "execute_result"
    }
   ],
   "source": [
    "a = torch.Tensor([[[1, 2], [2, 3]], [[4, 5], [8, 3]], [[4, 1], [7, 8]]])\n",
    "b = torch.randn(6, 2)\n",
    "weight = torch.randn(2, 2)\n",
    "model = Encoder(2, 2, 2, 2, 2, 2, 0.2, 3, a, a, a, b, weight, weight, torch.tensor([[1]]), torch.tensor([[2]]))\n",
    "inp = torch.Tensor([[10, 10], [20, 20]])\n",
    "model.forward(inp.unsqueeze(0))\n"
   ]
  },
  {
   "cell_type": "code",
   "execution_count": null,
   "id": "c76f38d5",
   "metadata": {},
   "outputs": [],
   "source": []
  },
  {
   "cell_type": "code",
   "execution_count": null,
   "id": "b88764ee",
   "metadata": {},
   "outputs": [],
   "source": []
  },
  {
   "cell_type": "code",
   "execution_count": null,
   "id": "2975789f",
   "metadata": {},
   "outputs": [],
   "source": []
  }
 ],
 "metadata": {
  "kernelspec": {
   "display_name": "Python 3",
   "language": "python",
   "name": "python3"
  },
  "language_info": {
   "codemirror_mode": {
    "name": "ipython",
    "version": 3
   },
   "file_extension": ".py",
   "mimetype": "text/x-python",
   "name": "python",
   "nbconvert_exporter": "python",
   "pygments_lexer": "ipython3",
   "version": "3.8.8"
  }
 },
 "nbformat": 4,
 "nbformat_minor": 5
}
